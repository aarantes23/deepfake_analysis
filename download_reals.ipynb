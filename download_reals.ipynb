{
 "cells": [
  {
   "cell_type": "code",
   "execution_count": null,
   "id": "c62fdfe3-4ab0-4b62-864a-7260458a970d",
   "metadata": {},
   "outputs": [],
   "source": [
    "!pip install sklearn"
   ]
  },
  {
   "cell_type": "code",
   "execution_count": null,
   "id": "d4d76c15-2f35-44df-a01a-c4594b2150c3",
   "metadata": {},
   "outputs": [],
   "source": [
    "from sklearn.datasets import fetch_lfw_people\n",
    "\n",
    "# Specify the desired parameters, such as the minimum image size\n",
    "lfw_people = fetch_lfw_people(min_faces_per_person=1)\n",
    "\n",
    "# The images are now available in lfw_people.images\n",
    "# And the labels (people's names) in lfw_people.target"
   ]
  },
  {
   "cell_type": "code",
   "execution_count": null,
   "id": "a9d0b838-a4cd-4b33-a242-18f84fa043a9",
   "metadata": {},
   "outputs": [],
   "source": [
    "import os\n",
    "import numpy as np\n",
    "import pandas as pd\n",
    "from PIL import Image\n",
    "\n",
    "# Directory to save the images\n",
    "output_dir = \"lfw_images\"\n",
    "os.makedirs(output_dir, exist_ok=True)\n",
    "\n",
    "# Save the images as individual files\n",
    "for i, (image, label) in enumerate(zip(lfw_people.images, lfw_people.target)):\n",
    "    file_name = os.path.join(output_dir, f\"image_{i}.jpg\")\n",
    "    # Save the image in the desired format (e.g., JPEG)\n",
    "    image = (image * 255).astype(np.uint8)\n",
    "    Image.fromarray(image).save(file_name)\n",
    "\n",
    "# Create a pandas DataFrame for the labels\n",
    "df_labels = pd.DataFrame({'Label': lfw_people.target})\n",
    "\n",
    "# Save the labels to a CSV file\n",
    "df_labels.to_csv(\"lfw_labels.csv\", index=False)\n"
   ]
  }
 ],
 "metadata": {
  "kernelspec": {
   "display_name": "Python 3 (ipykernel)",
   "language": "python",
   "name": "python3"
  },
  "language_info": {
   "codemirror_mode": {
    "name": "ipython",
    "version": 3
   },
   "file_extension": ".py",
   "mimetype": "text/x-python",
   "name": "python",
   "nbconvert_exporter": "python",
   "pygments_lexer": "ipython3",
   "version": "3.11.5"
  }
 },
 "nbformat": 4,
 "nbformat_minor": 5
}
