{
 "cells": [
  {
   "cell_type": "code",
   "execution_count": null,
   "id": "0faf259c-d424-4127-a019-269e5d1b139a",
   "metadata": {},
   "outputs": [],
   "source": [
    "import os\n",
    "import numpy as np\n",
    "import tensorflow as tf\n",
    "from tensorflow import keras\n",
    "from tensorflow.keras.preprocessing.image import load_img, img_to_array\n",
    "from tensorflow.keras.applications.vgg16 import preprocess_input"
   ]
  },
  {
   "cell_type": "code",
   "execution_count": null,
   "id": "8dc02755-b886-433a-82ee-0ed0dcba977e",
   "metadata": {},
   "outputs": [],
   "source": [
    "# Directory for the new images folder\n",
    "new_images_folder = \"validate\"\n",
    "\n",
    "# Loading the trained model\n",
    "loaded_model = keras.models.load_model('classification_real_fake_model.h5')\n",
    "\n",
    "# Manually map file names to expected labels in a dictionary\n",
    "expected_labels = {\n",
    "    \"image (1).jpg\": \"REAL\",\n",
    "    \"image (2).jpg\": \"REAL\",\n",
    "    \"image (3).jpg\": \"REAL\",\n",
    "    \"image (4).jpg\": \"REAL\",\n",
    "    \"image (5).jpg\": \"REAL\",\n",
    "    \"image (6).jpg\": \"REAL\",\n",
    "    \"image (7).jpg\": \"REAL\",\n",
    "    \"image (8).jpg\": \"REAL\",\n",
    "    \"image (9).jpg\": \"FAKE\",\n",
    "    \"image (10).jpg\": \"FAKE\",\n",
    "    \"image (11).jpg\": \"FAKE\",\n",
    "    \"image (12).jpg\": \"FAKE\",\n",
    "    \"image (13).jpg\": \"FAKE\",\n",
    "    \"image (14).jpg\": \"FAKE\",\n",
    "    \"image (15).jpg\": \"FAKE\",\n",
    "    \"image (16).jpg\": \"FAKE\",\n",
    "    \"image (17).jpg\": \"FAKE\",\n",
    "    \"image (18).jpg\": \"FAKE\"\n",
    "    # Add more entries as needed\n",
    "}"
   ]
  },
  {
   "cell_type": "code",
   "execution_count": null,
   "id": "bc6ae51b-b662-4279-8282-3bb7779d1da4",
   "metadata": {},
   "outputs": [],
   "source": [
    "# Function to preprocess a single image\n",
    "def preprocess_image(image_path, target_size):\n",
    "    img = load_img(image_path, target_size=target_size)\n",
    "    img = img_to_array(img)\n",
    "    img = preprocess_input(img)\n",
    "    img = np.expand_dims(img, axis=0)\n",
    "    return img\n",
    "\n",
    "# List all images in the new folder\n",
    "images_in_folder = [os.path.join(new_images_folder, file) for file in os.listdir(new_images_folder)]\n",
    "fake = 0\n",
    "real = 0\n",
    "\n",
    "# Image classification\n",
    "for image_path in images_in_folder:\n",
    "    image = preprocess_image(image_path, target_size=(128, 128))\n",
    "    prediction = loaded_model.predict(image)\n",
    "    \n",
    "    # The prediction is a value between 0 and 1 (0 = fake, 1 = real)\n",
    "    file_name = os.path.basename(image_path)\n",
    "    \n",
    "    # Get the expected label from the dictionary\n",
    "    expected_label = expected_labels.get(file_name, \"Unknown\")\n",
    "    \n",
    "    if prediction[0][0] >= 0.5:\n",
    "        print(f'The image {image_path} is REAL - Expected: {expected_label}')\n",
    "        real += 1\n",
    "    else:\n",
    "        print(f'The image {image_path} is FAKE - Expected: {expected_label}')\n",
    "        fake += 1\n",
    "\n",
    "print(f'\\nNumber of real images: {real}')       \n",
    "print(f'Number of fake images: {fake}')\n"
   ]
  }
 ],
 "metadata": {
  "kernelspec": {
   "display_name": "Python 3 (ipykernel)",
   "language": "python",
   "name": "python3"
  },
  "language_info": {
   "codemirror_mode": {
    "name": "ipython",
    "version": 3
   },
   "file_extension": ".py",
   "mimetype": "text/x-python",
   "name": "python",
   "nbconvert_exporter": "python",
   "pygments_lexer": "ipython3",
   "version": "3.11.5"
  }
 },
 "nbformat": 4,
 "nbformat_minor": 5
}
