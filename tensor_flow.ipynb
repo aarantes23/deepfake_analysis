{
 "cells": [
  {
   "cell_type": "code",
   "execution_count": null,
   "id": "d24fa707-cd15-442c-a2e3-729754641c5e",
   "metadata": {},
   "outputs": [],
   "source": [
    "import os\n",
    "import random\n",
    "import numpy as np\n",
    "import tensorflow as tf\n",
    "from tensorflow import keras\n",
    "from tensorflow.keras import layers\n",
    "from tensorflow.keras.preprocessing.image import ImageDataGenerator\n",
    "import pandas as pd"
   ]
  },
  {
   "cell_type": "code",
   "execution_count": null,
   "id": "59ad149e-4fae-419a-8309-f1881aa9b12c",
   "metadata": {},
   "outputs": [],
   "source": [
    "# Directories of image folders\n",
    "fake_folder = \"fake_images/fake\"\n",
    "real_folder = \"img_align_celeba/real\"\n",
    "\n",
    "# Hyperparameters\n",
    "batch_size = 256\n",
    "epochs = 10\n",
    "input_shape = (128, 128, 3)\n",
    "\n",
    "# Lists of image files\n",
    "fake_files = [os.path.join(fake_folder, file) for file in os.listdir(fake_folder)]\n",
    "real_files = [os.path.join(real_folder, file) for file in os.listdir(real_folder)]\n",
    "\n",
    "# Randomly select 1000 fake and 1000 real images\n",
    "random.seed(42)  # Set a random seed for reproducibility\n",
    "selected_fake_files = random.sample(fake_files, 1000)\n",
    "selected_real_files = random.sample(real_files, 1000)\n",
    "\n",
    "# Combine the lists of selected files and labels (0 for fake and 1 for real)\n",
    "selected_files = selected_fake_files + selected_real_files\n",
    "selected_labels = [0] * 1000 + [1] * 1000\n",
    "\n",
    "# Convert labels to NumPy arrays\n",
    "selected_labels = np.array(selected_labels)\n",
    "\n",
    "# Create a pandas DataFrame with 'File' and 'Label' columns\n",
    "df = pd.DataFrame({'File': selected_files, 'Label': selected_labels})\n",
    "\n",
    "# Data preprocessing\n",
    "train_datagen = ImageDataGenerator(rescale=1./255, validation_split=0.1)\n",
    "\n",
    "train_generator = train_datagen.flow_from_dataframe(\n",
    "    df,\n",
    "    x_col='File',\n",
    "    y_col='Label',\n",
    "    target_size=input_shape[:2],\n",
    "    batch_size=batch_size,\n",
    "    class_mode='raw',  # Changed to 'raw' to work with numerical labels\n",
    "    subset='training'\n",
    ")\n",
    "\n",
    "validation_generator = train_datagen.flow_from_dataframe(\n",
    "    df,\n",
    "    x_col='File',\n",
    "    y_col='Label',\n",
    "    target_size=input_shape[:2],\n",
    "    batch_size=batch_size,\n",
    "    class_mode='raw',  # Changed to 'raw' to work with numerical labels\n",
    "    subset='validation'\n",
    ")\n",
    "\n",
    "# CNN architecture definition\n",
    "model = keras.Sequential([\n",
    "    layers.Conv2D(32, (3, 3), activation='relu', input_shape=input_shape),\n",
    "    layers.MaxPooling2D((2, 2)),\n",
    "    layers.Conv2D(64, (3, 3), activation='relu'),\n",
    "    layers.MaxPooling2D((2, 2)),\n",
    "    layers.Flatten(),\n",
    "    layers.Dense(128, activation='relu'),\n",
    "    layers.Dense(1, activation='sigmoid')\n",
    "])\n"
   ]
  },
  {
   "cell_type": "code",
   "execution_count": null,
   "id": "20bfadba-caca-45bd-bd3f-7d9c3a19c034",
   "metadata": {},
   "outputs": [],
   "source": [
    "# Model compilation\n",
    "model.compile(optimizer='adam', loss='binary_crossentropy', metrics=['accuracy'])"
   ]
  },
  {
   "cell_type": "code",
   "execution_count": null,
   "id": "f387975e-c8b1-4e94-b604-a7b0c1d3c7b3",
   "metadata": {},
   "outputs": [],
   "source": [
    "# Model training\n",
    "model.fit(train_generator, epochs=epochs, validation_data=validation_generator)"
   ]
  },
  {
   "cell_type": "code",
   "execution_count": null,
   "id": "b273e91c-9768-48f4-8187-ac90e18c7a84",
   "metadata": {},
   "outputs": [],
   "source": [
    "# Model evaluation\n",
    "loss, accuracy = model.evaluate(validation_generator)\n",
    "print(f'Accuracy on the validation set: {accuracy * 100:.2f}%')"
   ]
  },
  {
   "cell_type": "code",
   "execution_count": null,
   "id": "1c49f91c-eb27-4f57-b117-39ef8a62654d",
   "metadata": {},
   "outputs": [],
   "source": [
    "# Saving the trained model\n",
    "model.save('classification_real_fake_model.h5')"
   ]
  }
 ],
 "metadata": {
  "kernelspec": {
   "display_name": "Python 3 (ipykernel)",
   "language": "python",
   "name": "python3"
  },
  "language_info": {
   "codemirror_mode": {
    "name": "ipython",
    "version": 3
   },
   "file_extension": ".py",
   "mimetype": "text/x-python",
   "name": "python",
   "nbconvert_exporter": "python",
   "pygments_lexer": "ipython3",
   "version": "3.11.5"
  }
 },
 "nbformat": 4,
 "nbformat_minor": 5
}
