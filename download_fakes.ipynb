{
 "cells": [
  {
   "cell_type": "code",
   "execution_count": null,
   "id": "5e264443-339c-4db4-ace8-25ce7d3e3389",
   "metadata": {},
   "outputs": [],
   "source": [
    "import os\n",
    "import requests\n",
    "import time\n",
    "\n",
    "# Create a directory to save images if it doesn't exist\n",
    "if not os.path.exists('fake_images'):\n",
    "    os.makedirs('fake_images')\n",
    "\n",
    "# URL of the \"This Person Does Not Exist\" website\n",
    "url = 'https://thispersondoesnotexist.com/'\n",
    "\n",
    "# Number of images you want to download\n",
    "number_of_images = 1000\n",
    "\n",
    "start_time = time.time()\n",
    "for i in range(number_of_images):\n",
    "    # Make an HTTP request to get the image\n",
    "    response = requests.get(url, stream=True)\n",
    "\n",
    "    # Check if the request was successful\n",
    "    if response.status_code == 200:\n",
    "        # Create a unique file name for each image\n",
    "        file_name = f'fake_images/image_{i+1}.jpg'\n",
    "\n",
    "        # Save the image in the directory\n",
    "        with open(file_name, 'wb') as file:\n",
    "            for chunk in response.iter_content(1024):\n",
    "                file.write(chunk)\n",
    "\n",
    "        print(f'Image {i+1} downloaded and saved as {file_name}')\n",
    "    else:\n",
    "        print(f'Error downloading image {i+1}')\n",
    "\n",
    "print(f'Download of images completed in: {time.time() - start_time} seconds')\n"
   ]
  }
 ],
 "metadata": {
  "kernelspec": {
   "display_name": "Python 3 (ipykernel)",
   "language": "python",
   "name": "python3"
  },
  "language_info": {
   "codemirror_mode": {
    "name": "ipython",
    "version": 3
   },
   "file_extension": ".py",
   "mimetype": "text/x-python",
   "name": "python",
   "nbconvert_exporter": "python",
   "pygments_lexer": "ipython3",
   "version": "3.11.5"
  }
 },
 "nbformat": 4,
 "nbformat_minor": 5
}
